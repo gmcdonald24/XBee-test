{
  "nbformat": 4,
  "nbformat_minor": 0,
  "metadata": {
    "orig_nbformat": 4,
    "colab": {
      "name": "Determination of Plancks Constant.ipynb",
      "provenance": []
    },
    "language_info": {
      "name": "python"
    },
    "kernelspec": {
      "name": "python3",
      "display_name": "Python 3"
    }
  },
  "cells": [
    {
      "cell_type": "markdown",
      "metadata": {
        "id": "L5_YiTcyb60V"
      },
      "source": [
        "# Load libraries and data"
      ]
    },
    {
      "cell_type": "code",
      "metadata": {
        "colab": {
          "base_uri": "https://localhost:8080/"
        },
        "id": "BOKPw1-ycbCR",
        "outputId": "6cd104b7-16a7-44ca-d28c-b4433417071e"
      },
      "source": [
        "!pip install whit-phys-util"
      ],
      "execution_count": 1,
      "outputs": [
        {
          "output_type": "stream",
          "name": "stdout",
          "text": [
            "Requirement already satisfied: whit-phys-util in /usr/local/lib/python3.7/dist-packages (0.2.7)\n",
            "Requirement already satisfied: python-dotenv>=0.10.4 in /usr/local/lib/python3.7/dist-packages (from whit-phys-util) (0.19.1)\n",
            "Requirement already satisfied: pydantic>=1.7.3 in /usr/local/lib/python3.7/dist-packages (from whit-phys-util) (1.8.2)\n",
            "Requirement already satisfied: typing-extensions>=3.7.4.3 in /usr/local/lib/python3.7/dist-packages (from pydantic>=1.7.3->whit-phys-util) (3.7.4.3)\n"
          ]
        }
      ]
    },
    {
      "cell_type": "code",
      "metadata": {
        "id": "7TrUDx_wb60Z"
      },
      "source": [
        "import numpy as np\n",
        "import pandas as pd\n",
        "import matplotlib.pyplot as plt\n",
        "import whit_phys_util as buc\n",
        "from string import ascii_uppercase\n",
        "import scipy.constants as sciConst"
      ],
      "execution_count": 2,
      "outputs": []
    },
    {
      "cell_type": "markdown",
      "metadata": {
        "id": "_KZGVL1Yb60b"
      },
      "source": [
        "# Connect to GitHub"
      ]
    },
    {
      "cell_type": "code",
      "metadata": {
        "colab": {
          "base_uri": "https://localhost:8080/"
        },
        "id": "sV2edN2Hb60b",
        "outputId": "79430ad3-bb38-4e1d-9e81-54efde47be09"
      },
      "source": [
        "repo = buc.local_repository(\"https://github.com/PS251-FA21/leds-and-plancks-constant-gmcdonald24\")"
      ],
      "execution_count": 3,
      "outputs": [
        {
          "output_type": "stream",
          "name": "stdout",
          "text": [
            "Repository exists at this location. Pulling changes from GitHub.\n"
          ]
        }
      ]
    },
    {
      "cell_type": "markdown",
      "metadata": {
        "id": "QHsTHbKvclwz"
      },
      "source": [
        "# Equipment\n",
        "|Description | Manufacturer | Model | ID # or SN|\n",
        "|------- | ------- | ------- | -------|\n",
        "Spectrometer | Ocean Optics | USB4000 | USB4F07107\n",
        "Power supply | BK precision | 9172 | 367C13104\n",
        "\n",
        "* Collection of LEDs\n",
        "* 100 $\\Omega$ resistor\n",
        "* cables\n",
        "* breadboard\n",
        "* hookup wire\n",
        "\n"
      ]
    },
    {
      "cell_type": "markdown",
      "metadata": {
        "id": "d0VcMDqre90F"
      },
      "source": [
        "# Procedure \n",
        "1. Connect first LED and resistor to the power supply in series\n",
        "2. Turn on power supply to 5V\n",
        "3. use Ocean Optics softare and spectrometer to measure the peak wavelength of the LED\n",
        "4. repeat process for the remaining LEDs"
      ]
    },
    {
      "cell_type": "markdown",
      "metadata": {
        "id": "D1lnuhGKf3qi"
      },
      "source": [
        "# Analysis"
      ]
    },
    {
      "cell_type": "code",
      "metadata": {
        "colab": {
          "base_uri": "https://localhost:8080/"
        },
        "id": "lCBcmbrZf6tO",
        "outputId": "225e7b70-fd23-44e4-8a2a-69234fa4f8ba"
      },
      "source": [
        "leds = list(ascii_uppercase[0:3]+ascii_uppercase[4:12])\n",
        "print(leds)"
      ],
      "execution_count": 4,
      "outputs": [
        {
          "output_type": "stream",
          "name": "stdout",
          "text": [
            "['A', 'B', 'C', 'E', 'F', 'G', 'H', 'I', 'J', 'K', 'L']\n"
          ]
        }
      ]
    },
    {
      "cell_type": "code",
      "metadata": {
        "id": "QXr3Mb6bewH7"
      },
      "source": [
        "dfc = {} # collection of DataFrames for LED I-V data\n",
        "for led in leds:\n",
        "  dfc[led] = pd.read_csv(f'LED-{led}-current-data.csv')"
      ],
      "execution_count": 5,
      "outputs": []
    },
    {
      "cell_type": "code",
      "metadata": {
        "colab": {
          "base_uri": "https://localhost:8080/",
          "height": 206
        },
        "id": "U-vqDWGegheQ",
        "outputId": "dc555d43-c1f6-4161-c522-a0509c11da21"
      },
      "source": [
        "dfc['A'].head()"
      ],
      "execution_count": 6,
      "outputs": [
        {
          "output_type": "execute_result",
          "data": {
            "text/html": [
              "<div>\n",
              "<style scoped>\n",
              "    .dataframe tbody tr th:only-of-type {\n",
              "        vertical-align: middle;\n",
              "    }\n",
              "\n",
              "    .dataframe tbody tr th {\n",
              "        vertical-align: top;\n",
              "    }\n",
              "\n",
              "    .dataframe thead th {\n",
              "        text-align: right;\n",
              "    }\n",
              "</style>\n",
              "<table border=\"1\" class=\"dataframe\">\n",
              "  <thead>\n",
              "    <tr style=\"text-align: right;\">\n",
              "      <th></th>\n",
              "      <th>Voltage (V)</th>\n",
              "      <th>Current (A)</th>\n",
              "    </tr>\n",
              "  </thead>\n",
              "  <tbody>\n",
              "    <tr>\n",
              "      <th>0</th>\n",
              "      <td>0.00</td>\n",
              "      <td>-0.0</td>\n",
              "    </tr>\n",
              "    <tr>\n",
              "      <th>1</th>\n",
              "      <td>0.01</td>\n",
              "      <td>-0.0</td>\n",
              "    </tr>\n",
              "    <tr>\n",
              "      <th>2</th>\n",
              "      <td>0.02</td>\n",
              "      <td>-0.0</td>\n",
              "    </tr>\n",
              "    <tr>\n",
              "      <th>3</th>\n",
              "      <td>0.03</td>\n",
              "      <td>-0.0</td>\n",
              "    </tr>\n",
              "    <tr>\n",
              "      <th>4</th>\n",
              "      <td>0.04</td>\n",
              "      <td>-0.0</td>\n",
              "    </tr>\n",
              "  </tbody>\n",
              "</table>\n",
              "</div>"
            ],
            "text/plain": [
              "   Voltage (V)  Current (A)\n",
              "0         0.00         -0.0\n",
              "1         0.01         -0.0\n",
              "2         0.02         -0.0\n",
              "3         0.03         -0.0\n",
              "4         0.04         -0.0"
            ]
          },
          "metadata": {},
          "execution_count": 6
        }
      ]
    },
    {
      "cell_type": "code",
      "metadata": {
        "id": "Qi6kLZNGgloR"
      },
      "source": [
        "wavelengths = pd.read_table('LED wavelengths.tsv', index_col=0)\n",
        "wavelengths\n",
        "wavelengths.drop('D',inplace=True)"
      ],
      "execution_count": 7,
      "outputs": []
    },
    {
      "cell_type": "code",
      "metadata": {
        "id": "MxamppKHgzRR"
      },
      "source": [
        "V_total = {}\n",
        "I ={}\n",
        "for led in leds:\n",
        "  V_total[led]=dfc[led]['Voltage (V)']\n",
        "  I[led] = dfc[led]['Current (A)']\n",
        "led_sets = [leds[0:4], leds[4:8], leds[8:12]]\n",
        "numSets = len(led_sets)"
      ],
      "execution_count": 8,
      "outputs": []
    },
    {
      "cell_type": "code",
      "metadata": {
        "colab": {
          "base_uri": "https://localhost:8080/",
          "height": 555
        },
        "id": "zF3DgM4UhlSM",
        "outputId": "0b4a9ee3-85eb-476f-eb99-e71c5e085dbe"
      },
      "source": [
        "fig1, ax1 = plt.subplots(numSets, 1, figsize = (7,9))\n",
        "for i in range(numSets):\n",
        "  for led in led_sets[i]:\n",
        "    ax1[i].plot(V_total[led], I[led], label=led)\n",
        "  ax1[i].set_ylabel(\"Current (A)\")\n",
        "  ax1[i].set_xlim(0,5)\n",
        "  ax1[i].set_ylim(0,0.015)\n",
        "  ax1[i].legend()\n",
        "ax1[numSets-1].set_xlabel(\"Total Voltage (V)\");"
      ],
      "execution_count": 9,
      "outputs": [
        {
          "output_type": "display_data",
          "data": {
            "image/png": "[encoded data removed]",
            "text/plain": [
              "<Figure size 504x648 with 3 Axes>"
            ]
          },
          "metadata": {
            "needs_background": "light"
          }
        }
      ]
    },
    {
      "cell_type": "code",
      "metadata": {
        "id": "fVB4c4ZViw65"
      },
      "source": [
        "V_LED= {}\n",
        "for led in leds:\n",
        "  V_LED[led] = V_total[led] - 98.7*I[led]"
      ],
      "execution_count": 10,
      "outputs": []
    },
    {
      "cell_type": "code",
      "metadata": {
        "colab": {
          "base_uri": "https://localhost:8080/",
          "height": 555
        },
        "id": "iNMg4SemkgeX",
        "outputId": "263ecf69-4352-4575-8516-d732becb8e59"
      },
      "source": [
        "fig2, ax2 = plt.subplots(numSets, 1, figsize = (7,9))\n",
        "for i in range(numSets):\n",
        "  for led in led_sets[i]:\n",
        "    ax2[i].plot(V_LED[led], I[led], label=led)\n",
        "  ax2[i].set_ylabel(\"Current (A)\")\n",
        "  ax2[i].set_xlim(0,5)\n",
        "  ax2[i].set_ylim(0,0.015)\n",
        "  ax2[i].legend()\n",
        "ax2[numSets-1].set_xlabel(\"LED Voltage (V)\");"
      ],
      "execution_count": 11,
      "outputs": [
        {
          "output_type": "display_data",
          "data": {
            "image/png": "[encoded data removed]",
            "text/plain": [
              "<Figure size 504x648 with 3 Axes>"
            ]
          },
          "metadata": {
            "needs_background": "light"
          }
        }
      ]
    },
    {
      "cell_type": "markdown",
      "metadata": {
        "id": "GNpaMyi1l_kS"
      },
      "source": [
        "# Prototype locating activation"
      ]
    },
    {
      "cell_type": "code",
      "metadata": {
        "colab": {
          "base_uri": "https://localhost:8080/"
        },
        "id": "nEkfFZcXlZTX",
        "outputId": "ec22f8c8-0571-4259-d389-635170968fc7"
      },
      "source": [
        "base_indices = np.where(V_LED['C']<=0.6)[0]\n",
        "avgBase = I['C'][base_indices].mean()\n",
        "stdBase = I['C'][base_indices].std()\n",
        "print(avgBase, stdBase)"
      ],
      "execution_count": 12,
      "outputs": [
        {
          "output_type": "stream",
          "name": "stdout",
          "text": [
            "8.196721311475414e-06 7.18985320232884e-06\n"
          ]
        }
      ]
    },
    {
      "cell_type": "code",
      "metadata": {
        "colab": {
          "base_uri": "https://localhost:8080/"
        },
        "id": "bsZ0NPYZmdc5",
        "outputId": "78b69b52-fc4d-42ce-f4d8-177c9fe167d8"
      },
      "source": [
        "thresh = avgBase + 5*stdBase\n",
        "print(thresh)"
      ],
      "execution_count": 13,
      "outputs": [
        {
          "output_type": "stream",
          "name": "stdout",
          "text": [
            "4.4145987323119615e-05\n"
          ]
        }
      ]
    },
    {
      "cell_type": "code",
      "metadata": {
        "colab": {
          "base_uri": "https://localhost:8080/"
        },
        "id": "0-_NjsqNm4Ae",
        "outputId": "23e2804a-f476-4fee-bdb0-cdefbd46bb8f"
      },
      "source": [
        "above_thresh_indices = np.where(I['C']>thresh)\n",
        "first_above_thresh = above_thresh_indices[0][0]\n",
        "print(first_above_thresh)\n",
        "V_LED['C'][first_above_thresh]"
      ],
      "execution_count": 14,
      "outputs": [
        {
          "output_type": "stream",
          "name": "stdout",
          "text": [
            "277\n"
          ]
        },
        {
          "output_type": "execute_result",
          "data": {
            "text/plain": [
              "2.765064999999985"
            ]
          },
          "metadata": {},
          "execution_count": 14
        }
      ]
    },
    {
      "cell_type": "markdown",
      "metadata": {
        "id": "BIyTgW_7owoU"
      },
      "source": [
        "# Locating activation voltage for all LEDs"
      ]
    },
    {
      "cell_type": "code",
      "metadata": {
        "colab": {
          "base_uri": "https://localhost:8080/"
        },
        "id": "pjHIEVKHoAFg",
        "outputId": "03bf56d1-f60f-482c-c0a6-7595d83b8c15"
      },
      "source": [
        "V_on_list = []\n",
        "for led in leds:\n",
        "  above_thresh_indices = np.where(I[led] > thresh)\n",
        "  first_above_thresh = above_thresh_indices[0][0]\n",
        "  V_on_list.append(V_LED[led][first_above_thresh])\n",
        "V_on = np.array(V_on_list)\n",
        "print(V_on)"
      ],
      "execution_count": 15,
      "outputs": [
        {
          "output_type": "stream",
          "name": "stdout",
          "text": [
            "[2.905065 3.035065 2.765065 2.465065 1.735065 1.705065 1.645065 1.555065\n",
            " 1.355065 1.125065 0.925065]\n"
          ]
        }
      ]
    },
    {
      "cell_type": "markdown",
      "metadata": {
        "id": "5SO6WY4yrThR"
      },
      "source": [
        "# Determining h"
      ]
    },
    {
      "cell_type": "code",
      "metadata": {
        "colab": {
          "base_uri": "https://localhost:8080/",
          "height": 112
        },
        "id": "0jNQSNahwQp3",
        "outputId": "24b72910-fc24-48e7-8c49-27e8613f1527"
      },
      "source": [
        "wavelengths_inverse = 1/wavelengths['Peak wavelength (nm)']\n",
        "fitTable, fitFunc = buc.prettyPolyFit(wavelengths_inverse, V_on)\n",
        "fitTable"
      ],
      "execution_count": 22,
      "outputs": [
        {
          "output_type": "execute_result",
          "data": {
            "text/html": [
              "<div>\n",
              "<style scoped>\n",
              "    .dataframe tbody tr th:only-of-type {\n",
              "        vertical-align: middle;\n",
              "    }\n",
              "\n",
              "    .dataframe tbody tr th {\n",
              "        vertical-align: top;\n",
              "    }\n",
              "\n",
              "    .dataframe thead th {\n",
              "        text-align: right;\n",
              "    }\n",
              "</style>\n",
              "<table border=\"1\" class=\"dataframe\">\n",
              "  <thead>\n",
              "    <tr style=\"text-align: right;\">\n",
              "      <th></th>\n",
              "      <th>slope</th>\n",
              "      <th>intercept</th>\n",
              "    </tr>\n",
              "  </thead>\n",
              "  <tbody>\n",
              "    <tr>\n",
              "      <th>value</th>\n",
              "      <td>1206.130209</td>\n",
              "      <td>-0.261017</td>\n",
              "    </tr>\n",
              "    <tr>\n",
              "      <th>uncertainty</th>\n",
              "      <td>175.994618</td>\n",
              "      <td>0.334911</td>\n",
              "    </tr>\n",
              "  </tbody>\n",
              "</table>\n",
              "</div>"
            ],
            "text/plain": [
              "                   slope  intercept\n",
              "value        1206.130209  -0.261017\n",
              "uncertainty   175.994618   0.334911"
            ]
          },
          "metadata": {},
          "execution_count": 22
        }
      ]
    },
    {
      "cell_type": "code",
      "metadata": {
        "colab": {
          "base_uri": "https://localhost:8080/",
          "height": 283
        },
        "id": "fWZJfwsqphFu",
        "outputId": "c8000635-0566-40e2-a946-5af3b6d9d64e"
      },
      "source": [
        "x= np.linspace(0,3.5,100)\n",
        "fig3, ax3 = plt.subplots()\n",
        "ax3.scatter(wavelengths_inverse, V_on);\n",
        "ax3.set_xlabel(\"Inverse Wavelength\");\n",
        "ax3.set_ylabel(\"Activation Voltage\");\n",
        "ax3.set_xlim(0,.003);\n",
        "ax3.set_ylim(0,3.5);\n",
        "ax3.plot(x, fitFunc(x));"
      ],
      "execution_count": 23,
      "outputs": [
        {
          "output_type": "display_data",
          "data": {
            "image/png": "[encoded data removed]",
            "text/plain": [
              "<Figure size 432x288 with 1 Axes>"
            ]
          },
          "metadata": {
            "needs_background": "light"
          }
        }
      ]
    },
    {
      "cell_type": "code",
      "metadata": {
        "id": "TK8Wr8A6yUgI",
        "outputId": "cd28dd80-03e4-4003-ad49-c24a7a591f8b",
        "colab": {
          "base_uri": "https://localhost:8080/"
        }
      },
      "source": [
        "fitTable['slope']['value']"
      ],
      "execution_count": 24,
      "outputs": [
        {
          "output_type": "execute_result",
          "data": {
            "text/plain": [
              "1206.1302085027296"
            ]
          },
          "metadata": {},
          "execution_count": 24
        }
      ]
    },
    {
      "cell_type": "code",
      "metadata": {
        "colab": {
          "base_uri": "https://localhost:8080/"
        },
        "id": "WrAjgTZ-roxR",
        "outputId": "e5be9933-8bbf-49f7-c7a1-8310bbf09074"
      },
      "source": [
        "e = sciConst.e\n",
        "c = sciConst.c\n",
        "h = (fitTable['slope']['value']*10**-9)*(e/c)\n",
        "dh = (fitTable['slope']['uncertainty']*10**-9)*(e/c)\n",
        "print(h, dh)"
      ],
      "execution_count": 25,
      "outputs": [
        {
          "output_type": "stream",
          "name": "stdout",
          "text": [
            "6.445904778647305e-34 9.405655706879478e-35\n"
          ]
        }
      ]
    },
    {
      "cell_type": "code",
      "metadata": {
        "id": "1d5GKpkqx0gy",
        "outputId": "60da0551-909a-4643-c6d6-da9f71bff615",
        "colab": {
          "base_uri": "https://localhost:8080/"
        }
      },
      "source": [
        "percentErr = (h-sciConst.h)/sciConst.h*100\n",
        "print(percentErr)"
      ],
      "execution_count": 26,
      "outputs": [
        {
          "output_type": "stream",
          "name": "stdout",
          "text": [
            "-2.719038091570686\n"
          ]
        }
      ]
    },
    {
      "cell_type": "code",
      "metadata": {
        "id": "XtrUe8-z16F9",
        "outputId": "f21e4c8f-63e8-4355-e8a9-94e41eea07fa",
        "colab": {
          "base_uri": "https://localhost:8080/"
        }
      },
      "source": [
        "print(type(V_on))\n",
        "print(type(wavelengths))"
      ],
      "execution_count": 27,
      "outputs": [
        {
          "output_type": "stream",
          "name": "stdout",
          "text": [
            "<class 'numpy.ndarray'>\n",
            "<class 'pandas.core.frame.DataFrame'>\n"
          ]
        }
      ]
    },
    {
      "cell_type": "code",
      "metadata": {
        "id": "21ZtJk0KzRfu",
        "outputId": "acadecc2-c5a7-42fb-df17-fdee1828473e",
        "colab": {
          "base_uri": "https://localhost:8080/"
        }
      },
      "source": [
        "E_thermal = []\n",
        "for i, led in enumerate(leds):\n",
        "  E_thermal.append( (e * V_on[i]-sciConst.h*c/(wavelengths['Peak wavelength (nm)'][led]*1e-9))/e )\n",
        "E_thermal"
      ],
      "execution_count": 29,
      "outputs": [
        {
          "output_type": "execute_result",
          "data": {
            "text/plain": [
              "[-0.5199128572707433,\n",
              " -0.26238708598939003,\n",
              " -0.4058863665780268,\n",
              " 0.0944302307227399,\n",
              " -0.42493845702439353,\n",
              " -0.38926267623648975,\n",
              " -0.3198192857876412,\n",
              " -0.3553232655346712,\n",
              " -0.24887029667788063,\n",
              " -0.3000407291172436,\n",
              " -0.41241286875081123]"
            ]
          },
          "metadata": {},
          "execution_count": 29
        }
      ]
    },
    {
      "cell_type": "code",
      "metadata": {
        "id": "k5MSIEMj1WGv",
        "outputId": "9b988c97-b881-4548-9711-fda192e5514e",
        "colab": {
          "base_uri": "https://localhost:8080/",
          "height": 265
        }
      },
      "source": [
        "fig4,ax4 = plt.subplots()\n",
        "ax4.plot(leds,list(E_thermal),\"*\");"
      ],
      "execution_count": 30,
      "outputs": [
        {
          "output_type": "display_data",
          "data": {
            "image/png": "[encoded data removed]",
            "text/plain": [
              "<Figure size 432x288 with 1 Axes>"
            ]
          },
          "metadata": {
            "needs_background": "light"
          }
        }
      ]
    }
  ]
}