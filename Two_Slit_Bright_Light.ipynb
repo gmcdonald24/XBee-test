{
  "nbformat": 4,
  "nbformat_minor": 0,
  "metadata": {
    "colab": {
      "name": "Two Slit Bright Light.ipynb",
      "provenance": []
    },
    "kernelspec": {
      "name": "python3",
      "display_name": "Python 3"
    },
    "language_info": {
      "name": "python"
    }
  },
  "cells": [
    {
      "cell_type": "markdown",
      "metadata": {
        "id": "_EBHWIU53cMp"
      },
      "source": [
        "Partner: None\n",
        "\n",
        "Date: 9/23/2021"
      ]
    },
    {
      "cell_type": "markdown",
      "metadata": {
        "id": "rvWHD8mi3fk2"
      },
      "source": [
        "# Objectives\n",
        "* To measure both of the slit widths in the double slit slide using\n",
        "their respective single-slit diffraction patterns.\n",
        "* To determine the laser wavelength using by fitting the Fraunhofer\n",
        "model for two-slit interference to the observed intensity pattern.\n"
      ]
    },
    {
      "cell_type": "markdown",
      "metadata": {
        "id": "RhF7QGg_3vCp"
      },
      "source": [
        "# Install and import libraries"
      ]
    },
    {
      "cell_type": "code",
      "metadata": {
        "id": "WubCoyfR3Z13",
        "colab": {
          "base_uri": "https://localhost:8080/"
        },
        "outputId": "5c989d44-53ff-4203-cd23-33d640d809a5"
      },
      "source": [
        "!pip install whit-phys-util"
      ],
      "execution_count": 1,
      "outputs": [
        {
          "output_type": "stream",
          "name": "stdout",
          "text": [
            "Collecting whit-phys-util\n",
            "  Downloading whit_phys_util-0.2.6-py3-none-any.whl (11 kB)\n",
            "Collecting python-dotenv>=0.10.4\n",
            "  Downloading python_dotenv-0.19.0-py2.py3-none-any.whl (17 kB)\n",
            "Collecting pydantic>=1.7.3\n",
            "  Downloading pydantic-1.8.2-cp37-cp37m-manylinux2014_x86_64.whl (10.1 MB)\n",
            "\u001b[K     |████████████████████████████████| 10.1 MB 99 kB/s \n",
            "\u001b[?25hRequirement already satisfied: typing-extensions>=3.7.4.3 in /usr/local/lib/python3.7/dist-packages (from pydantic>=1.7.3->whit-phys-util) (3.7.4.3)\n",
            "Installing collected packages: python-dotenv, pydantic, whit-phys-util\n",
            "Successfully installed pydantic-1.8.2 python-dotenv-0.19.0 whit-phys-util-0.2.6\n"
          ]
        }
      ]
    },
    {
      "cell_type": "code",
      "metadata": {
        "id": "z71tvh4S3zuM",
        "colab": {
          "base_uri": "https://localhost:8080/"
        },
        "outputId": "dde53288-ef17-4af8-8804-5f232364215f"
      },
      "source": [
        "import numpy as np\n",
        "import pandas as pd\n",
        "import matplotlib.pyplot as plt\n",
        "from scipy.optimize import curve_fit\n",
        "import whit_phys_util as buc"
      ],
      "execution_count": 2,
      "outputs": [
        {
          "output_type": "stream",
          "name": "stdout",
          "text": [
            "Mounted at /content/drive\n"
          ]
        }
      ]
    },
    {
      "cell_type": "markdown",
      "metadata": {
        "id": "8ITZg-fK31iu"
      },
      "source": [
        "# Connect to GitHub"
      ]
    },
    {
      "cell_type": "code",
      "metadata": {
        "id": "ZJpw8lT64Blb",
        "colab": {
          "base_uri": "https://localhost:8080/"
        },
        "outputId": "dbc43097-d1eb-4db7-c82b-608841f16a55"
      },
      "source": [
        "repo = buc.local_repository(\"https://github.com/PS251-FA21/two-slit-bright-light-gmcdonald24\")"
      ],
      "execution_count": 4,
      "outputs": [
        {
          "output_type": "stream",
          "name": "stdout",
          "text": [
            "Cloning repository from GitHub.\n"
          ]
        }
      ]
    },
    {
      "cell_type": "markdown",
      "metadata": {
        "id": "0K4rOfR44Cn_"
      },
      "source": [
        "# Equipment\n",
        "\n",
        "| Description | Manufacturer | Model | ID or SN |\n",
        "| ----------- | ------------ | ----- | -------- |\n",
        "| Two-slit interference, one-photon-at-a-time apparatus | TeachSpin | TWS2-A | TWS 383 |\n",
        "| multimeter | Fluke |  | fill in |\n"
      ]
    },
    {
      "cell_type": "markdown",
      "metadata": {
        "id": "22urVy94Wk3-"
      },
      "source": [
        "# Slit-blocker positions\n",
        "* Far slit unblocked: 4.75mm\n",
        "* Both unblocked: 4mm\n",
        "* Near slit unblocked: 2.95mm"
      ]
    },
    {
      "cell_type": "code",
      "metadata": {
        "id": "OoSdAdXz4Y-X"
      },
      "source": [
        "distancetodetector = 49.5 #distance from double-slit in mm"
      ],
      "execution_count": null,
      "outputs": []
    },
    {
      "cell_type": "markdown",
      "metadata": {
        "id": "_PpH6wuyaSEU"
      },
      "source": [
        "#Key landmarks in the interference pattern"
      ]
    },
    {
      "cell_type": "markdown",
      "metadata": {
        "id": "ZgoRHR3YauMF"
      },
      "source": [
        "Label | Locatipon (mm) | Photodiode Voltage (V)\n",
        "--- | --- | ---\n",
        "$\\mathrm{B_f}$ |6.16 |.738\n",
        "$\\mathrm{1_f}$ |5.38 |1.853\n",
        "$\\mathrm{A_f}$ |4.58 |2.977\n",
        "$0$ |3.76| 3.407\n",
        "$\\mathrm{A_n}$ |2.96 |2.852\n",
        "$\\mathrm{1_n}$ |2.17 |1.695\n",
        "$\\mathrm{B_n}$ |1.36 | .590"
      ]
    },
    {
      "cell_type": "markdown",
      "metadata": {
        "id": "XmZihzTKlXDV"
      },
      "source": [
        "centerLocation = 3.76 #position of central max in mm"
      ]
    }
  ]
}